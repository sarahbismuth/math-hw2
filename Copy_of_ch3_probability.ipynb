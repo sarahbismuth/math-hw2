{
  "nbformat": 4,
  "nbformat_minor": 0,
  "metadata": {
    "kernelspec": {
      "display_name": "Python 3",
      "language": "python",
      "name": "python3"
    },
    "language_info": {
      "codemirror_mode": {
        "name": "ipython",
        "version": 3
      },
      "file_extension": ".py",
      "mimetype": "text/x-python",
      "name": "python",
      "nbconvert_exporter": "python",
      "pygments_lexer": "ipython3",
      "version": "3.7.3"
    },
    "colab": {
      "name": "Copy of ch3_probability.ipynb",
      "provenance": []
    }
  },
  "cells": [
    {
      "cell_type": "markdown",
      "metadata": {
        "id": "YTsj548uyauU",
        "colab_type": "text"
      },
      "source": [
        "# Probability"
      ]
    },
    {
      "cell_type": "markdown",
      "metadata": {
        "id": "P-lDwLouyauY",
        "colab_type": "text"
      },
      "source": [
        "## Hot Hands"
      ]
    },
    {
      "cell_type": "markdown",
      "metadata": {
        "id": "iNx9sRQ_yaud",
        "colab_type": "text"
      },
      "source": [
        "Basketball players who make several baskets in succession are described as having a hot hand. Fans and players have long believed in the hot hand phenomenon, which refutes the assumption that each shot is independent of the next. However, a 1985 paper by Gilovich, Vallone, and Tversky collected evidence that contradicted this belief and showed that successive shots are independent events (http://www.cs.colorado.edu/~mozer/Teaching/syllabi/7782/readings/gilovich%20vallone%20tversky.pdf). This paper started a great controversy that continues to this day, as you can see by Googling hot hand basketball.\n",
        "\n",
        "We do not expect to resolve this controversy today. However, in this lab we’ll apply one approach to answering questions like this. The goals for this lab are to (1) think about the effects of independent and dependent events, (2) learn how to simulate shooting streaks in Python, and (3) to compare a simulation to actual data in order to determine if the hot hand phenomenon appears to be real."
      ]
    },
    {
      "cell_type": "code",
      "metadata": {
        "id": "FoQpejdbyauh",
        "colab_type": "code",
        "colab": {}
      },
      "source": [
        "# for Mac OS users only!\n",
        "# if you run into any SSL certification issues, \n",
        "# you may need to run the following command for a Mac OS installation.\n",
        "# $/Applications/Python 3.x/Install Certificates.command\n",
        "import os, ssl\n",
        "if (not os.environ.get('PYTHONHTTPSVERIFY', '') and\n",
        "    getattr(ssl, '_create_unverified_context', None)): \n",
        "    ssl._create_default_https_context = ssl._create_unverified_context"
      ],
      "execution_count": 0,
      "outputs": []
    },
    {
      "cell_type": "markdown",
      "metadata": {
        "id": "3jizawHcyaus",
        "colab_type": "text"
      },
      "source": [
        "## Getting started"
      ]
    },
    {
      "cell_type": "markdown",
      "metadata": {
        "id": "blta6-Jxyauw",
        "colab_type": "text"
      },
      "source": [
        "Our investigation will focus on the performance of one player: Kobe Bryant of the Los Angeles Lakers. His performance against the Orlando Magic in the 2009 NBA finals earned him the title Most Valuable Player and many spectators commented on how he appeared to show a hot hand. Let’s load some data from those games and look at the first several rows."
      ]
    },
    {
      "cell_type": "code",
      "metadata": {
        "id": "ePug98sfyauy",
        "colab_type": "code",
        "outputId": "9e9af71a-b69b-45aa-f7ad-843e3174c711",
        "colab": {
          "base_uri": "https://localhost:8080/",
          "height": 204
        }
      },
      "source": [
        "import pandas as pd\n",
        "\n",
        "kobe = pd.read_csv('https://www.openintro.org/stat/data/kobe.csv')\n",
        "kobe.head()"
      ],
      "execution_count": 0,
      "outputs": [
        {
          "output_type": "execute_result",
          "data": {
            "text/html": [
              "<div>\n",
              "<style scoped>\n",
              "    .dataframe tbody tr th:only-of-type {\n",
              "        vertical-align: middle;\n",
              "    }\n",
              "\n",
              "    .dataframe tbody tr th {\n",
              "        vertical-align: top;\n",
              "    }\n",
              "\n",
              "    .dataframe thead th {\n",
              "        text-align: right;\n",
              "    }\n",
              "</style>\n",
              "<table border=\"1\" class=\"dataframe\">\n",
              "  <thead>\n",
              "    <tr style=\"text-align: right;\">\n",
              "      <th></th>\n",
              "      <th>vs</th>\n",
              "      <th>game</th>\n",
              "      <th>quarter</th>\n",
              "      <th>time</th>\n",
              "      <th>description</th>\n",
              "      <th>basket</th>\n",
              "    </tr>\n",
              "  </thead>\n",
              "  <tbody>\n",
              "    <tr>\n",
              "      <th>0</th>\n",
              "      <td>ORL</td>\n",
              "      <td>1</td>\n",
              "      <td>1</td>\n",
              "      <td>9:47</td>\n",
              "      <td>Kobe Bryant makes 4-foot two point shot</td>\n",
              "      <td>H</td>\n",
              "    </tr>\n",
              "    <tr>\n",
              "      <th>1</th>\n",
              "      <td>ORL</td>\n",
              "      <td>1</td>\n",
              "      <td>1</td>\n",
              "      <td>9:07</td>\n",
              "      <td>Kobe Bryant misses jumper</td>\n",
              "      <td>M</td>\n",
              "    </tr>\n",
              "    <tr>\n",
              "      <th>2</th>\n",
              "      <td>ORL</td>\n",
              "      <td>1</td>\n",
              "      <td>1</td>\n",
              "      <td>8:11</td>\n",
              "      <td>Kobe Bryant misses 7-foot jumper</td>\n",
              "      <td>M</td>\n",
              "    </tr>\n",
              "    <tr>\n",
              "      <th>3</th>\n",
              "      <td>ORL</td>\n",
              "      <td>1</td>\n",
              "      <td>1</td>\n",
              "      <td>7:41</td>\n",
              "      <td>Kobe Bryant makes 16-foot jumper (Derek Fisher...</td>\n",
              "      <td>H</td>\n",
              "    </tr>\n",
              "    <tr>\n",
              "      <th>4</th>\n",
              "      <td>ORL</td>\n",
              "      <td>1</td>\n",
              "      <td>1</td>\n",
              "      <td>7:03</td>\n",
              "      <td>Kobe Bryant makes driving layup</td>\n",
              "      <td>H</td>\n",
              "    </tr>\n",
              "  </tbody>\n",
              "</table>\n",
              "</div>"
            ],
            "text/plain": [
              "    vs  game  ...                                        description basket\n",
              "0  ORL     1  ...            Kobe Bryant makes 4-foot two point shot      H\n",
              "1  ORL     1  ...                          Kobe Bryant misses jumper      M\n",
              "2  ORL     1  ...                   Kobe Bryant misses 7-foot jumper      M\n",
              "3  ORL     1  ...  Kobe Bryant makes 16-foot jumper (Derek Fisher...      H\n",
              "4  ORL     1  ...                    Kobe Bryant makes driving layup      H\n",
              "\n",
              "[5 rows x 6 columns]"
            ]
          },
          "metadata": {
            "tags": []
          },
          "execution_count": 3
        }
      ]
    },
    {
      "cell_type": "markdown",
      "metadata": {
        "id": "TcmbkP0ryau_",
        "colab_type": "text"
      },
      "source": [
        "In this data frame, every row records a shot taken by Kobe Bryant. If he hit the shot (made a basket), a hit, `H`, is recorded in the column named basket, otherwise a miss, `M`, is recorded.\n",
        "\n",
        "Just looking at the string of hits and misses, it can be difficult to gauge whether or not it seems like Kobe was shooting with a hot hand. One way we can approach this is by considering the belief that hot hand shooters tend to go on shooting streaks. For this lab, we define the length of a shooting streak to be the ***number of consecutive baskets made until a miss occurs***.\n",
        "\n",
        "For example, in Game 1 Kobe had the following sequence of hits and misses from his nine shot attempts in the first quarter:\n",
        "\n",
        "##### `H M | M | H H M | M | M | M`\n",
        "\n",
        "To verify this use the following command:"
      ]
    },
    {
      "cell_type": "code",
      "metadata": {
        "id": "tEnw_MdQyavB",
        "colab_type": "code",
        "outputId": "cde089c7-13e4-462c-dba7-a2db16ae8174",
        "colab": {
          "base_uri": "https://localhost:8080/",
          "height": 187
        }
      },
      "source": [
        "kobe['basket'][0:9]"
      ],
      "execution_count": 0,
      "outputs": [
        {
          "output_type": "execute_result",
          "data": {
            "text/plain": [
              "0    H\n",
              "1    M\n",
              "2    M\n",
              "3    H\n",
              "4    H\n",
              "5    M\n",
              "6    M\n",
              "7    M\n",
              "8    M\n",
              "Name: basket, dtype: object"
            ]
          },
          "metadata": {
            "tags": []
          },
          "execution_count": 4
        }
      ]
    },
    {
      "cell_type": "markdown",
      "metadata": {
        "id": "sqIma6iTyavI",
        "colab_type": "text"
      },
      "source": [
        "Within the nine shot attempts, there are six streaks, which are separated by a \"|\" above. Their lengths are one, zero, two, zero, zero, zero (in order of occurrence)."
      ]
    },
    {
      "cell_type": "markdown",
      "metadata": {
        "id": "qstnkEWJyavK",
        "colab_type": "text"
      },
      "source": [
        "<div class = 'exercise'>\n",
        "<h4>Exercise 1</h4>\n",
        "What does a streak length of 1 mean, i.e. how many hits and misses are in a streak of 1? What about a streak length of 0?\n",
        "</div>"
      ]
    },
    {
      "cell_type": "markdown",
      "metadata": {
        "id": "QJMpAXo4yavM",
        "colab_type": "text"
      },
      "source": [
        "The custom function `calc_streak()` can be used to calculate the lengths of all shooting streaks."
      ]
    },
    {
      "cell_type": "code",
      "metadata": {
        "id": "oqt0A4DfyavP",
        "colab_type": "code",
        "outputId": "0b612fb1-6b7e-4b13-f242-8d80629e969d",
        "colab": {
          "base_uri": "https://localhost:8080/",
          "height": 68
        }
      },
      "source": [
        "import numpy as np\n",
        "\n",
        "def calc_streak(x):\n",
        "    y = np.zeros(len(x))\n",
        "    y[x == 'H'] = 1\n",
        "    y = np.insert(y, 0, 0)\n",
        "    y = np.append(y, 0)\n",
        "    wz = np.where(y == 0)\n",
        "    streak = np.diff(wz) - 1\n",
        "    streak = streak.flatten() # return a copy of the array collapsed into one dimension.\n",
        "    return streak\n",
        "\n",
        "kobe_streak = calc_streak(kobe['basket'])\n",
        "print(kobe_streak)"
      ],
      "execution_count": 0,
      "outputs": [
        {
          "output_type": "stream",
          "text": [
            "[1 0 2 0 0 0 3 2 0 3 0 1 3 0 0 0 0 0 1 1 0 4 1 0 1 0 1 0 1 2 0 1 2 1 0 0 1\n",
            " 0 0 0 1 1 0 1 0 2 0 0 0 3 0 1 0 1 2 1 0 1 0 0 1 3 3 1 1 0 0 0 0 0 1 1 0 0\n",
            " 0 1]\n"
          ],
          "name": "stdout"
        }
      ]
    },
    {
      "cell_type": "code",
      "metadata": {
        "id": "-2wCppv3yavW",
        "colab_type": "code",
        "outputId": "895aaefa-6215-4b88-9412-dc34f0b00095",
        "colab": {
          "base_uri": "https://localhost:8080/",
          "height": 316
        }
      },
      "source": [
        "import matplotlib.pyplot as plt\n",
        "%matplotlib inline \n",
        "%config InlineBackend.figure_format = 'retina'\n",
        "plt.style.use('ggplot')\n",
        "plt.rcParams['figure.figsize'] = (10,5)\n",
        "\n",
        "kobe_streak_counts = np.asarray(np.unique(kobe_streak, return_counts = True))\n",
        "kobe_streak_counts = pd.DataFrame(data = kobe_streak_counts[1,], index = kobe_streak_counts[0,])\n",
        "kobe_streak_counts.plot(kind = 'bar', legend = False)\n",
        "plt.show(); \n"
      ],
      "execution_count": 0,
      "outputs": [
        {
          "output_type": "display_data",
          "data": {
            "image/png": "[encoded data removed]",
            "text/plain": [
              "<Figure size 720x360 with 1 Axes>"
            ]
          },
          "metadata": {
            "tags": [],
            "image/png": {
              "width": 592,
              "height": 299
            }
          }
        }
      ]
    },
    {
      "cell_type": "markdown",
      "metadata": {
        "id": "ZU3gxJPMyavc",
        "colab_type": "text"
      },
      "source": [
        "Note that instead of making a histogram, we chose to make a bar plot.. A bar plot is preferable here since our variable is discrete – counts – instead of continuous."
      ]
    },
    {
      "cell_type": "markdown",
      "metadata": {
        "id": "fde1sFtfyavf",
        "colab_type": "text"
      },
      "source": [
        "<div class = 'exercise'>\n",
        "<h4>Exercise 2</h4>\n",
        "Describe the distribution of Kobe's streak lengths from the 2009 NBA finals. What was his typical streak length? How long was his longest streak of baskets?\n",
        "</div>"
      ]
    },
    {
      "cell_type": "markdown",
      "metadata": {
        "id": "wveT2-iWyavh",
        "colab_type": "text"
      },
      "source": [
        "## Compared to What?"
      ]
    },
    {
      "cell_type": "markdown",
      "metadata": {
        "id": "pjbP0HlXyavi",
        "colab_type": "text"
      },
      "source": [
        "We’ve shown that Kobe had some long shooting streaks, but are they long enough to support the belief that he had hot hands? What can we compare them to?\n",
        "\n",
        "To answer these questions, let’s return to the idea of *independence*. Two processes are independent if the outcome of one process doesn’t effect the outcome of the second. If each shot that a player takes is an independent process, having made or missed your first shot will not affect the probability that you will make or miss your second shot.\n",
        "\n",
        "A shooter with a hot hand will have shots that are *not* independent of one another. Specifically, if the shooter makes his first shot, the hot hand model says he will have a *higher* probability of making his second shot.\n",
        "\n",
        "Let’s suppose for a moment that the hot hand model is valid for Kobe. During his career, the percentage of time Kobe makes a basket (i.e. his shooting percentage) is about 45%, or in probability notation,\n",
        "#### `P(shot 1 = H) = 0.45`\n",
        "If he makes the first shot and has a hot hand (not independent shots), then the probability that he makes his second shot would go up to, let’s say, 60%,\n",
        "#### `P(shot 2 = H|shot 1 = H) = 0.60`\n",
        "As a result of these increased probabilites, you’d expect Kobe to have longer streaks. Compare this to the skeptical perspective where Kobe does not have a hot hand, where each shot is independent of the next. If he hit his first shot, the probability that he makes the second is still 0.45.\n",
        "#### `P(shot 2 = H|shot 1 = H) = 0.45`\n",
        "In other words, making the first shot did nothing to effect the probability that he’d make his second shot. If Kobe’s shots are independent, then he’d have the same probability of hitting every shot regardless of his past shots: 45%.\n",
        "\n",
        "Now that we’ve phrased the situation in terms of independent shots, let’s return to the question: how do we tell if Kobe’s shooting streaks are long enough to indicate that he has hot hands? We can compare his streak lengths to someone without hot hands: an independent shooter."
      ]
    },
    {
      "cell_type": "markdown",
      "metadata": {
        "id": "qx3aumnbyavj",
        "colab_type": "text"
      },
      "source": [
        "## Simulations in Python"
      ]
    },
    {
      "cell_type": "markdown",
      "metadata": {
        "id": "duxXK322yavl",
        "colab_type": "text"
      },
      "source": [
        "While we don't have any data from a shooter we know to have independent shots, that sort of data is very easy to simulate in Python. In a simulation, you set the ground rules of a random process and then the computer uses random numbers to generate an outcome that adheres to those rules. As a simple example, you can simulate flipping a fair coin with the following:"
      ]
    },
    {
      "cell_type": "code",
      "metadata": {
        "id": "dB-cuKOjyavm",
        "colab_type": "code",
        "outputId": "033d99ff-9118-4f06-b77c-53439cb94b15",
        "colab": {
          "base_uri": "https://localhost:8080/",
          "height": 34
        }
      },
      "source": [
        "outcomes = np.array(['heads', 'tails'])\n",
        "print(np.random.choice(outcomes, size = 1, replace = True))"
      ],
      "execution_count": 0,
      "outputs": [
        {
          "output_type": "stream",
          "text": [
            "['tails']\n"
          ],
          "name": "stdout"
        }
      ]
    },
    {
      "cell_type": "markdown",
      "metadata": {
        "id": "M1FrmOQuyavs",
        "colab_type": "text"
      },
      "source": [
        "The vector `outcomes` can be thought of as a hat with two slips of paper in it: one slip says `heads` and the other says `tails`. The function `random.choice()` draws one slip from the hat and tells us if it was a head or a tail.\n",
        "\n",
        "Run the second command listed above several times. Just like when flipping a coin, sometimes you’ll get a heads, sometimes you’ll get a tails, but in the long run, you’d expect to get roughly equal numbers of each.\n",
        "\n",
        "If you wanted to simulate flipping a fair coin 100 times, you could either run the function 100 times or, more simply, adjust the `size` argument, which governs how many samples to draw (the `replace = True` argument indicates we put the slip of paper back in the hat before drawing again). Save the resulting array of heads and tails in a new object called sim_fair_coin."
      ]
    },
    {
      "cell_type": "code",
      "metadata": {
        "id": "SWr_1VlNyavv",
        "colab_type": "code",
        "colab": {}
      },
      "source": [
        "sim_fair_coin = np.random.choice(outcomes, size = 100, replace = True)"
      ],
      "execution_count": 0,
      "outputs": []
    },
    {
      "cell_type": "markdown",
      "metadata": {
        "id": "chffxhD4yav1",
        "colab_type": "text"
      },
      "source": [
        "To view the results of this simulation, use `unique()` to count up the number of heads and tails:"
      ]
    },
    {
      "cell_type": "code",
      "metadata": {
        "id": "_sjnteT8yav3",
        "colab_type": "code",
        "outputId": "14a02f43-39d9-4c3e-9b39-ec05ff14a661",
        "colab": {
          "base_uri": "https://localhost:8080/",
          "height": 51
        }
      },
      "source": [
        "unique, counts = np.unique(sim_fair_coin, return_counts = True)\n",
        "print(np.asarray((unique, counts)).T)"
      ],
      "execution_count": 0,
      "outputs": [
        {
          "output_type": "stream",
          "text": [
            "[['heads' '46']\n",
            " ['tails' '54']]\n"
          ],
          "name": "stdout"
        }
      ]
    },
    {
      "cell_type": "markdown",
      "metadata": {
        "id": "TsMXi1GNyav8",
        "colab_type": "text"
      },
      "source": [
        "Since there are only two elements in `outcomes`, the probability that we \"flip\" a coin and it lands heads is 0.5. Say we’re trying to simulate an unfair coin that we know only lands heads 20% of the time. We can adjust for this by adding an argument called `p`, which provides the probabilities associated with each entry in the array."
      ]
    },
    {
      "cell_type": "code",
      "metadata": {
        "id": "rcifXGiJyav-",
        "colab_type": "code",
        "outputId": "37ea25d0-3f53-4096-844d-460860dafe29",
        "colab": {
          "base_uri": "https://localhost:8080/",
          "height": 51
        }
      },
      "source": [
        "sim_unfair_coin = np.random.choice(outcomes, size = 100, replace = True, p = [0.2, 0.8])\n",
        "unique, counts = np.unique(sim_unfair_coin, return_counts = True)\n",
        "print(np.asarray((unique, counts)).T)"
      ],
      "execution_count": 0,
      "outputs": [
        {
          "output_type": "stream",
          "text": [
            "[['heads' '16']\n",
            " ['tails' '84']]\n"
          ],
          "name": "stdout"
        }
      ]
    },
    {
      "cell_type": "markdown",
      "metadata": {
        "id": "LoeFAgjiyawD",
        "colab_type": "text"
      },
      "source": [
        "`p = [0.2, 0.8]` indicates that for the two elements in the outcomes array, we want to select the first one, `heads` with probability 0.2 and the second one, `tails` with probability 0.8. Another way of thinking about this is to think of the outcome space as a bag of 10 chips, where 2 chips are labeled \"head\" and 8 chips \"tail\". Therefore at each draw, the probability of drawing a chip that says \"head\" is 20%, and \"tail\" is 80%."
      ]
    },
    {
      "cell_type": "markdown",
      "metadata": {
        "id": "pSiVI_kFyawE",
        "colab_type": "text"
      },
      "source": [
        "<div class = 'exercise'>\n",
        "<h4>Exercise 3</h4>\n",
        "In your simulation of flipping the unfair coin 100 times, how many flips came up heads?\n",
        "</div>"
      ]
    },
    {
      "cell_type": "markdown",
      "metadata": {
        "id": "LmwAl33zyawF",
        "colab_type": "text"
      },
      "source": [
        "In a sense, we've shrunken the size of the slip of paper that says \"heads\", making it less likely to be drawn and we've increased the size of the slip of paper saying \"tails\", making it more likely to be drawn. When we simulated the fair coin, both slips of paper were the same size. This happens by default if you don't provide a `p` argument; all elements in the `outcomes` array have an equal probability of being drawn."
      ]
    },
    {
      "cell_type": "markdown",
      "metadata": {
        "id": "Olis82P0yawG",
        "colab_type": "text"
      },
      "source": [
        "## Simulating the Independent Shooter"
      ]
    },
    {
      "cell_type": "markdown",
      "metadata": {
        "id": "jilrr3d2yawH",
        "colab_type": "text"
      },
      "source": [
        "Simulating a basketball player who has independent shots uses the same mechanism that we use to simulate a coin flip. To simulate a single shot from an independent shooter with a shooting percentage of 50% we type,"
      ]
    },
    {
      "cell_type": "code",
      "metadata": {
        "id": "fTUp8iUKyawI",
        "colab_type": "code",
        "colab": {}
      },
      "source": [
        "outcomes = np.array(['H', 'M'])\n",
        "sim_basket = np.random.choice(outcomes, size = 1, replace = True)"
      ],
      "execution_count": 0,
      "outputs": []
    },
    {
      "cell_type": "markdown",
      "metadata": {
        "id": "8YfKWL3QyawL",
        "colab_type": "text"
      },
      "source": [
        "To make a valid comparison between Kobe and our simulated independent shooter, we need to align both their shooting percentage and the number of attempted shots."
      ]
    },
    {
      "cell_type": "markdown",
      "metadata": {
        "id": "nt8Bgn-UyawM",
        "colab_type": "text"
      },
      "source": [
        "<div class = 'exercise'>\n",
        "<h4>Exercise 4</h4>\n",
        "    What change needs to be made to the <code>random.choice()</code> function so that it reflects a shooting percentage of 45%? Make this adjustment, then run a simulation to sample 133 shots. Assign the output of this simulation to a new object called <code>sim_basket</code>.\n",
        "</div>"
      ]
    },
    {
      "cell_type": "markdown",
      "metadata": {
        "id": "Pr5uPS-nyawO",
        "colab_type": "text"
      },
      "source": [
        "Note that we've named the new vector `sim_basket`, the same name that we gave to the previous array reflecting a shooting percentage of 50%. In this situation, Python overwrites the old object with the new one, so always make sure that you don't need the information in an old array before reassigning its name.\n",
        "\n",
        "With the results of the simulation saved as `sim_basket`, we have the data necessary to compare Kobe to our independent shooter. We can look at Kobe's data alongside our simulated data."
      ]
    },
    {
      "cell_type": "code",
      "metadata": {
        "id": "hPgAdRccyawQ",
        "colab_type": "code",
        "outputId": "041c227f-17f4-451a-ddf1-4962a365e5ce",
        "colab": {
          "base_uri": "https://localhost:8080/",
          "height": 221
        }
      },
      "source": [
        "kobe['basket']"
      ],
      "execution_count": 0,
      "outputs": [
        {
          "output_type": "execute_result",
          "data": {
            "text/plain": [
              "0      H\n",
              "1      M\n",
              "2      M\n",
              "3      H\n",
              "4      H\n",
              "      ..\n",
              "128    M\n",
              "129    M\n",
              "130    M\n",
              "131    M\n",
              "132    H\n",
              "Name: basket, Length: 133, dtype: object"
            ]
          },
          "metadata": {
            "tags": []
          },
          "execution_count": 12
        }
      ]
    },
    {
      "cell_type": "code",
      "metadata": {
        "id": "P4uhIya1yawT",
        "colab_type": "code",
        "outputId": "39710b14-33ef-4799-fb0f-601bad71cec7",
        "colab": {}
      },
      "source": [
        "print(sim_basket)"
      ],
      "execution_count": 0,
      "outputs": [
        {
          "output_type": "stream",
          "text": [
            "['M']\n"
          ],
          "name": "stdout"
        }
      ]
    },
    {
      "cell_type": "markdown",
      "metadata": {
        "id": "pgw60hRZyawX",
        "colab_type": "text"
      },
      "source": [
        "Both data sets represent the results of 133 shot attempts, each with the same shooting percentage of 45%. We know that our simulated data is from a shooter that has independent shots. That is, we know the simulated shooter does not have a hot hand."
      ]
    },
    {
      "cell_type": "markdown",
      "metadata": {
        "id": "OiTdzY9WyawY",
        "colab_type": "text"
      },
      "source": [
        "---\n",
        "## On Your Own\n",
        "### Comparing Kobe Bryant to the Independent Shooter\n",
        "\n",
        "Using `calc_streak()`, compute the streak lengths of `sim_basket`.\n",
        "\n",
        "<ol>\n",
        "  <li>Describe the distribution of streak lengths. What is the typical streak length for this simulated independent shooter with a 45% shooting percentage? How long is the player’s longest streak of baskets in 133 shots?</li><br>\n",
        "  <li>If you were to run the simulation of the independent shooter a second time, how would you expect its streak distribution to compare to the distribution from the question above? Exactly the same? Somewhat similar? Totally different? Explain your reasoning.</li><br>\n",
        "      <li>How does Kobe Bryant's distribution of streak lengths compare to the distribution of streak lengths for the simulated shooter? Using this comparison, do you have evidence that the hot hand model fits Kobe's shooting patterns? Explain.</li>\n",
        "</ol>"
      ]
    },
    {
      "cell_type": "code",
      "metadata": {
        "id": "8QUg35rj1Jo8",
        "colab_type": "code",
        "outputId": "1e38152c-fc2f-44ab-98d5-7360cc4c4c70",
        "colab": {
          "base_uri": "https://localhost:8080/",
          "height": 297
        }
      },
      "source": [
        "#Describe the distribution of streak lengths. What is the typical streak length for this simulated independent shooter with a 45% shooting percentage? How long is the player’s longest streak of baskets in 133 shots?\n",
        "kobe.describe()"
      ],
      "execution_count": 0,
      "outputs": [
        {
          "output_type": "execute_result",
          "data": {
            "text/html": [
              "<div>\n",
              "<style scoped>\n",
              "    .dataframe tbody tr th:only-of-type {\n",
              "        vertical-align: middle;\n",
              "    }\n",
              "\n",
              "    .dataframe tbody tr th {\n",
              "        vertical-align: top;\n",
              "    }\n",
              "\n",
              "    .dataframe thead th {\n",
              "        text-align: right;\n",
              "    }\n",
              "</style>\n",
              "<table border=\"1\" class=\"dataframe\">\n",
              "  <thead>\n",
              "    <tr style=\"text-align: right;\">\n",
              "      <th></th>\n",
              "      <th>game</th>\n",
              "    </tr>\n",
              "  </thead>\n",
              "  <tbody>\n",
              "    <tr>\n",
              "      <th>count</th>\n",
              "      <td>133.000000</td>\n",
              "    </tr>\n",
              "    <tr>\n",
              "      <th>mean</th>\n",
              "      <td>2.902256</td>\n",
              "    </tr>\n",
              "    <tr>\n",
              "      <th>std</th>\n",
              "      <td>1.450521</td>\n",
              "    </tr>\n",
              "    <tr>\n",
              "      <th>min</th>\n",
              "      <td>1.000000</td>\n",
              "    </tr>\n",
              "    <tr>\n",
              "      <th>25%</th>\n",
              "      <td>1.000000</td>\n",
              "    </tr>\n",
              "    <tr>\n",
              "      <th>50%</th>\n",
              "      <td>3.000000</td>\n",
              "    </tr>\n",
              "    <tr>\n",
              "      <th>75%</th>\n",
              "      <td>4.000000</td>\n",
              "    </tr>\n",
              "    <tr>\n",
              "      <th>max</th>\n",
              "      <td>5.000000</td>\n",
              "    </tr>\n",
              "  </tbody>\n",
              "</table>\n",
              "</div>"
            ],
            "text/plain": [
              "             game\n",
              "count  133.000000\n",
              "mean     2.902256\n",
              "std      1.450521\n",
              "min      1.000000\n",
              "25%      1.000000\n",
              "50%      3.000000\n",
              "75%      4.000000\n",
              "max      5.000000"
            ]
          },
          "metadata": {
            "tags": []
          },
          "execution_count": 22
        }
      ]
    },
    {
      "cell_type": "code",
      "metadata": {
        "id": "Kbgw49O87AKe",
        "colab_type": "code",
        "outputId": "a7f3d204-9d6d-4152-98a2-0b1a44536de6",
        "colab": {
          "base_uri": "https://localhost:8080/",
          "height": 68
        }
      },
      "source": [
        "outcomes = np.array(['H', 'M'])\n",
        "sim_basketnew = np.random.choice(outcomes, size = 100, replace = True, p = [0.45, 0.55])\n",
        "pp=calc_streak(sim_basketnew)\n",
        "pp"
      ],
      "execution_count": 0,
      "outputs": [
        {
          "output_type": "execute_result",
          "data": {
            "text/plain": [
              "array([4, 2, 0, 0, 1, 1, 0, 0, 3, 0, 1, 0, 1, 0, 0, 0, 2, 6, 1, 0, 1, 4,\n",
              "       0, 2, 0, 0, 0, 2, 2, 1, 0, 0, 4, 0, 2, 0, 0, 2, 1, 0, 0, 1, 1, 3,\n",
              "       1, 3, 2])"
            ]
          },
          "metadata": {
            "tags": []
          },
          "execution_count": 56
        }
      ]
    },
    {
      "cell_type": "code",
      "metadata": {
        "id": "yP4dANkzHNfk",
        "colab_type": "code",
        "outputId": "eef7d54d-4d32-4fe5-a895-18162804f9a7",
        "colab": {
          "base_uri": "https://localhost:8080/",
          "height": 370
        }
      },
      "source": [
        "plt.hist(pp)"
      ],
      "execution_count": 0,
      "outputs": [
        {
          "output_type": "execute_result",
          "data": {
            "text/plain": [
              "(array([21., 11.,  0.,  8.,  0.,  3.,  3.,  0.,  0.,  1.]),\n",
              " array([0. , 0.6, 1.2, 1.8, 2.4, 3. , 3.6, 4.2, 4.8, 5.4, 6. ]),\n",
              " <a list of 10 Patch objects>)"
            ]
          },
          "metadata": {
            "tags": []
          },
          "execution_count": 57
        },
        {
          "output_type": "display_data",
          "data": {
            "image/png": "[encoded data removed]",
            "text/plain": [
              "<Figure size 720x360 with 1 Axes>"
            ]
          },
          "metadata": {
            "tags": [],
            "image/png": {
              "width": 601,
              "height": 302
            }
          }
        }
      ]
    },
    {
      "cell_type": "markdown",
      "metadata": {
        "id": "h9tUzIfNQ_It",
        "colab_type": "text"
      },
      "source": [
        "From this we can see that the majority of this distrbutio is around 0 and is right skewed. The longest one is 6.\n"
      ]
    },
    {
      "cell_type": "markdown",
      "metadata": {
        "id": "JQGGtEVGyawZ",
        "colab_type": "text"
      },
      "source": [
        "<div class = \"license\">\n",
        "This lab was adapted by Vural Aksakalli and Imran Ture from OpenIntro by Andrew Bray and Mine Çetinkaya-Rundel.\n",
        "</div>"
      ]
    },
    {
      "cell_type": "markdown",
      "metadata": {
        "id": "8dryO0SkRh5i",
        "colab_type": "text"
      },
      "source": [
        "**If you were to run the simulation of the independent shooter a second time, how would you expect its streak distribution to compare to the distribution from the question above? Exactly the same? Somewhat similar? Totally different? Explain your reasoning.**\n",
        "I think that the simulation would be somewhat different since it is random. However i think that the sample size is large enought not to be totally different.\n"
      ]
    },
    {
      "cell_type": "markdown",
      "metadata": {
        "id": "BDEQ__fZVzaW",
        "colab_type": "text"
      },
      "source": [
        "**How does Kobe Bryant's distribution of streak lengths compare to the distribution of streak lengths for the simulated shooter? Using this comparison, do you have evidence that the hot hand model fits Kobe's shooting patterns? Explain.**"
      ]
    },
    {
      "cell_type": "code",
      "metadata": {
        "id": "kL71rxdcV9iH",
        "colab_type": "code",
        "outputId": "136084d4-60c9-431a-ea23-d801303fe4ab",
        "colab": {
          "base_uri": "https://localhost:8080/",
          "height": 370
        }
      },
      "source": [
        "plt.hist(kobe_streak)"
      ],
      "execution_count": 0,
      "outputs": [
        {
          "output_type": "execute_result",
          "data": {
            "text/plain": [
              "(array([39.,  0., 24.,  0.,  0.,  6.,  0.,  6.,  0.,  1.]),\n",
              " array([0. , 0.4, 0.8, 1.2, 1.6, 2. , 2.4, 2.8, 3.2, 3.6, 4. ]),\n",
              " <a list of 10 Patch objects>)"
            ]
          },
          "metadata": {
            "tags": []
          },
          "execution_count": 61
        },
        {
          "output_type": "display_data",
          "data": {
            "image/png": "[encoded data removed]",
            "text/plain": [
              "<Figure size 720x360 with 1 Axes>"
            ]
          },
          "metadata": {
            "tags": [],
            "image/png": {
              "width": 592,
              "height": 302
            }
          }
        }
      ]
    },
    {
      "cell_type": "markdown",
      "metadata": {
        "id": "cccb8TYRyawa",
        "colab_type": "text"
      },
      "source": [
        "***\n",
        "www.featureranking.com"
      ]
    },
    {
      "cell_type": "markdown",
      "metadata": {
        "id": "B0XEvQpCXM8x",
        "colab_type": "text"
      },
      "source": [
        "the distribution seems similar, with also a typical streak of 0. tHus we can not conclude a hot hand phenomenon. If this phenomenon was real the istogram will tend to go more to the right."
      ]
    },
    {
      "cell_type": "code",
      "metadata": {
        "id": "2r-wBx8CY3hl",
        "colab_type": "code",
        "colab": {}
      },
      "source": [
        ""
      ],
      "execution_count": 0,
      "outputs": []
    },
    {
      "cell_type": "code",
      "metadata": {
        "id": "UR2T-Cj3Y_Vy",
        "colab_type": "code",
        "colab": {}
      },
      "source": [
        ""
      ],
      "execution_count": 0,
      "outputs": []
    }
  ]
}